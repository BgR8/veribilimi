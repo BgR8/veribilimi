{
 "cells": [
  {
   "cell_type": "code",
   "execution_count": 1,
   "metadata": {
    "collapsed": true
   },
   "outputs": [],
   "source": [
    "import tensorflow as tf"
   ]
  },
  {
   "cell_type": "code",
   "execution_count": 2,
   "metadata": {
    "collapsed": true
   },
   "outputs": [],
   "source": [
    "from tensorflow.examples.tutorials.mnist import input_data"
   ]
  },
  {
   "cell_type": "code",
   "execution_count": 3,
   "metadata": {},
   "outputs": [
    {
     "name": "stdout",
     "output_type": "stream",
     "text": [
      "Extracting C:\\Users\\toshiba\\SkyDrive\\veribilimi.co\\Datasets\\mnist_data\\train-images-idx3-ubyte.gz\n",
      "Extracting C:\\Users\\toshiba\\SkyDrive\\veribilimi.co\\Datasets\\mnist_data\\train-labels-idx1-ubyte.gz\n",
      "Extracting C:\\Users\\toshiba\\SkyDrive\\veribilimi.co\\Datasets\\mnist_data\\t10k-images-idx3-ubyte.gz\n",
      "Extracting C:\\Users\\toshiba\\SkyDrive\\veribilimi.co\\Datasets\\mnist_data\\t10k-labels-idx1-ubyte.gz\n"
     ]
    }
   ],
   "source": [
    "# Hedef değişken 0-9 arası rakam yerine one hot olması için one_hot\"True\" yaptık.\n",
    "# Örneğin 0 için [1,0,0,0,0,0,0,0,0,0] veya 3 için [0,0,0,1,0,0,0,0,0,0] şeklinde olacak\n",
    "\n",
    "mnist = input_data.read_data_sets(\"C:\\\\Users\\\\toshiba\\\\SkyDrive\\\\veribilimi.co\\\\Datasets\\\\mnist_data\", one_hot=\"True\")"
   ]
  },
  {
   "cell_type": "code",
   "execution_count": 4,
   "metadata": {
    "collapsed": true
   },
   "outputs": [],
   "source": [
    "# Her bir gizli katman için node sayısı\n",
    "n_nodes_hl1 = 500\n",
    "n_nodes_hl2 = 500\n",
    "n_nodes_hl3 = 500"
   ]
  },
  {
   "cell_type": "code",
   "execution_count": 5,
   "metadata": {
    "collapsed": true
   },
   "outputs": [],
   "source": [
    "# MNIST veri setinde 10 farklı rakam için\n",
    "n_classes = 10"
   ]
  },
  {
   "cell_type": "code",
   "execution_count": 6,
   "metadata": {
    "collapsed": true
   },
   "outputs": [],
   "source": [
    "# kaç satırda bir ağ güncellensin?\n",
    "batch_size = 100"
   ]
  },
  {
   "cell_type": "code",
   "execution_count": 7,
   "metadata": {
    "collapsed": true
   },
   "outputs": [],
   "source": [
    "# placeholder yer tutucu adı üstünde. İkinci parametre bir liste. ilk elemanı satır sayısı, ikincisi sütun sayısı\n",
    "# her bir rakam 28*28 pikselden oluştuğu için toplam 784 özellik olmuş oluyor.\n",
    "x = tf.placeholder('float', [None, 784])\n",
    "y = tf.placeholder('float')"
   ]
  },
  {
   "cell_type": "code",
   "execution_count": 9,
   "metadata": {
    "collapsed": true
   },
   "outputs": [],
   "source": [
    "def neural_network_data(data):\n",
    "    hidden_1_layer = {'weights':tf.Variable(tf.random_normal([784, n_nodes_hl1])),\n",
    "                     'biases':tf.Variable(tf.random_normal(n_nodes_hl1))}\n",
    "    \n",
    "    hidden_2_layer = {'weights':tf.Variable(tf.random_normal([784, n_nodes_hl2])),\n",
    "                     'biases':tf.Variable(tf.random_normal(n_nodes_hl2))}\n",
    "    \n",
    "    hidden_3_layer = {'weights':tf.Variable(tf.random_normal([784, n_nodes_hl3])),\n",
    "                     'biases':tf.Variable(tf.random_normal(n_nodes_hl3))}\n",
    "    \n",
    "    output_layer = {'weights':tf.Variable(tf.random_normal([n_nodes_hl3, n_classes])),\n",
    "                     'biases':tf.Variable(tf.random_normal(n_classes))}\n",
    "    \n",
    "    # (input data * weights) + biases\n",
    "    l1 = tf.add(tf.matmul(data, hidden_1_layer['weights'] + hidden_1_layer['biases']))\n",
    "    l1 = tf.nn.relu(l1)\n",
    "    \n",
    "    l2 = tf.add(tf.matmul(l1, hidden_2_layer['weights'] + hidden_2_layer['biases']))\n",
    "    l2 = tf.nn.relu(l2)\n",
    "    \n",
    "    l3 = tf.add(tf.matmul(l2, hidden_3_layer['weights'] + hidden_3_layer['biases']))\n",
    "    l3 = tf.nn.relu(l3)\n",
    "    \n",
    "    output = tf.matmul(l3, output_layer['weights'] + output_layer['biases'])\n",
    "    \n",
    "    return output"
   ]
  },
  {
   "cell_type": "markdown",
   "metadata": {
    "collapsed": true
   },
   "source": [
    " Video-4 Başlangıç"
   ]
  },
  {
   "cell_type": "code",
   "execution_count": null,
   "metadata": {
    "collapsed": true
   },
   "outputs": [],
   "source": []
  }
 ],
 "metadata": {
  "kernelspec": {
   "display_name": "Python [conda root]",
   "language": "python",
   "name": "conda-root-py"
  },
  "language_info": {
   "codemirror_mode": {
    "name": "ipython",
    "version": 3
   },
   "file_extension": ".py",
   "mimetype": "text/x-python",
   "name": "python",
   "nbconvert_exporter": "python",
   "pygments_lexer": "ipython3",
   "version": "3.5.3"
  }
 },
 "nbformat": 4,
 "nbformat_minor": 2
}
