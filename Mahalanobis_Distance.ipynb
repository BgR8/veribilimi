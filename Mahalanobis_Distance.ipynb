{
 "cells": [
  {
   "cell_type": "markdown",
   "metadata": {},
   "source": [
    "Mahalanobis Distance and Outliers blog post at http://kldavenport.com\n",
    "\n",
    "## Calculating the Mahalanobis Distance and detecting outliers\n",
    "### 1. Generate two random 1-D arrays:¶"
   ]
  },
  {
   "cell_type": "code",
   "execution_count": 1,
   "metadata": {},
   "outputs": [
    {
     "name": "stdout",
     "output_type": "stream",
     "text": [
      "[6 3 6 3 9 3 3 6 6 7] [4 1 3 5 5 6 2 3 7 7]\n",
      "(10,)\n",
      "(10,)\n"
     ]
    }
   ],
   "source": [
    "import numpy as np\n",
    "import random\n",
    "\n",
    "random.seed(59)\n",
    "# as column vectors\n",
    "x = np.random.poisson(5,10)\n",
    "y = np.random.poisson(5,10)\n",
    "\n",
    "# examine the shape of the numpy arrays\n",
    "print(x, y)\n",
    "print(x.shape)\n",
    "print(y.shape)"
   ]
  },
  {
   "cell_type": "markdown",
   "metadata": {},
   "source": [
    "### 2. Estimate a covariance matrix for (x,y):\n",
    "An examination of what numpy's cov expects: A 1-D or 2-D array containing multiple variables and observations. Each row of m represents a variable, and each column a single observation of all those variables. In the event we are dealing with column vectors instead of row vectors, the rowvar parameter can be set to 1.\n",
    "\n",
    "Here we calculate the covariance matrix:"
   ]
  },
  {
   "cell_type": "code",
   "execution_count": 4,
   "metadata": {},
   "outputs": [
    {
     "name": "stdout",
     "output_type": "stream",
     "text": [
      "covariance_xy [[ 4.4         1.6       ]\n",
      " [ 1.6         4.23333333]]\n",
      "inv_covariance_xy:  [[ 0.26348548 -0.09958506]\n",
      " [-0.09958506  0.27385892]]\n",
      "inv_covariance_xy.shape:  (2, 2)\n"
     ]
    }
   ],
   "source": [
    "covariance_xy = np.cov(x,y, rowvar=0)\n",
    "inv_covariance_xy = np.linalg.inv(covariance_xy)\n",
    "\n",
    "# Examine inverse covariance matrix and shape\n",
    "print(\"covariance_xy\",covariance_xy)\n",
    "print(\"inv_covariance_xy: \",inv_covariance_xy)\n",
    "print(\"inv_covariance_xy.shape: \",inv_covariance_xy.shape)"
   ]
  },
  {
   "cell_type": "markdown",
   "metadata": {},
   "source": [
    "### 3. Center each value by the mean:\n",
    "Center each value by the mean by subtracting the mean from i in array x and y."
   ]
  },
  {
   "cell_type": "code",
   "execution_count": 6,
   "metadata": {},
   "outputs": [
    {
     "name": "stdout",
     "output_type": "stream",
     "text": [
      "(10,)\n",
      "(5.0999999999999996, 4.5999999999999996)\n",
      "[-1.1  0.9 -2.1  0.9 -0.1  0.9 -2.1  1.9  3.9 -3.1]\n",
      "[-1.6 -0.6 -2.6  2.4  0.4  1.4 -1.6 -0.6 -1.6  4.4]\n"
     ]
    }
   ],
   "source": [
    "xy_mean = np.mean(x),np.mean(y)\n",
    "x_diff = np.array([x_i - xy_mean[0] for x_i in x])\n",
    "y_diff = np.array([y_i - xy_mean[1] for y_i in y])\n",
    "print(x_diff.shape)\n",
    "print(xy_mean)\n",
    "print(x_diff)\n",
    "print(y_diff)"
   ]
  },
  {
   "cell_type": "markdown",
   "metadata": {},
   "source": [
    "Join the x_diff and y_diff arrays into (10 x 2) array to be used in our formula later. Consider these coordinate pairs."
   ]
  },
  {
   "cell_type": "code",
   "execution_count": 8,
   "metadata": {},
   "outputs": [
    {
     "name": "stdout",
     "output_type": "stream",
     "text": [
      "(10, 2)\n",
      "[[-1.1 -1.6]\n",
      " [ 0.9 -0.6]\n",
      " [-2.1 -2.6]\n",
      " [ 0.9  2.4]\n",
      " [-0.1  0.4]\n",
      " [ 0.9  1.4]\n",
      " [-2.1 -1.6]\n",
      " [ 1.9 -0.6]\n",
      " [ 3.9 -1.6]\n",
      " [-3.1  4.4]]\n"
     ]
    }
   ],
   "source": [
    "diff_xy = np.transpose([x_diff, y_diff])\n",
    "print(diff_xy.shape)\n",
    "print(diff_xy)"
   ]
  },
  {
   "cell_type": "markdown",
   "metadata": {},
   "source": [
    "#### 4. Formula building\n",
    "As stated above: $ MD = \\sqrt{  (x - \\mu)^T {\\rm \\bf  \\Sigma}^{-1} (x - \\mu)}$, \n",
    "So to put together this formula we'll need the square root of the transpose of our _diffxy array, the inverse of our _covariancexy matrix which we've assigned to _inv_covariancexy, and our original _diffxy array. Examining their shapes below for one final check before performing dot multiplication (remember u•v = v•u and u•(v + w) = u•w + v•w):"
   ]
  },
  {
   "cell_type": "code",
   "execution_count": 9,
   "metadata": {},
   "outputs": [
    {
     "name": "stdout",
     "output_type": "stream",
     "text": [
      "(2,)\n",
      "(2, 2)\n",
      "(10, 2)\n"
     ]
    }
   ],
   "source": [
    "print(np.transpose(diff_xy[1]).shape)\n",
    "print(inv_covariance_xy.shape)\n",
    "print(diff_xy.shape)"
   ]
  },
  {
   "cell_type": "code",
   "execution_count": 10,
   "metadata": {},
   "outputs": [
    {
     "data": {
      "text/plain": [
       "[0.99054224754225884,\n",
       " 0.46836195462913394,\n",
       " 1.7128195744953745,\n",
       " 1.2749163095190754,\n",
       " 0.18478256292712919,\n",
       " 0.84709702603089077,\n",
       " 1.3565240433972998,\n",
       " 0.8987583895608503,\n",
       " 1.8748800963809118,\n",
       " 2.3077008424488397]"
      ]
     },
     "execution_count": 10,
     "metadata": {},
     "output_type": "execute_result"
    }
   ],
   "source": [
    "md = []\n",
    "for i in range(len(diff_xy)):\n",
    "    md.append(np.sqrt(np.dot(np.dot(np.transpose(diff_xy[i]),inv_covariance_xy),diff_xy[i])))\n",
    "md"
   ]
  },
  {
   "cell_type": "markdown",
   "metadata": {},
   "source": [
    "### We can wrap all this sequential code up into one function as follows:¶"
   ]
  },
  {
   "cell_type": "code",
   "execution_count": 11,
   "metadata": {
    "collapsed": true
   },
   "outputs": [],
   "source": [
    "def MahalanobisDist(x, y):\n",
    "    covariance_xy = np.cov(x,y, rowvar=0)\n",
    "    inv_covariance_xy = np.linalg.inv(covariance_xy)\n",
    "    xy_mean = np.mean(x),np.mean(y)\n",
    "    x_diff = np.array([x_i - xy_mean[0] for x_i in x])\n",
    "    y_diff = np.array([y_i - xy_mean[1] for y_i in y])\n",
    "    diff_xy = np.transpose([x_diff, y_diff])\n",
    "    \n",
    "    md = []\n",
    "    for i in range(len(diff_xy)):\n",
    "        md.append(np.sqrt(np.dot(np.dot(np.transpose(diff_xy[i]),inv_covariance_xy),diff_xy[i])))\n",
    "    return md"
   ]
  },
  {
   "cell_type": "code",
   "execution_count": 12,
   "metadata": {},
   "outputs": [
    {
     "data": {
      "text/plain": [
       "[0.99054224754225884,\n",
       " 0.46836195462913394,\n",
       " 1.7128195744953745,\n",
       " 1.2749163095190754,\n",
       " 0.18478256292712919,\n",
       " 0.84709702603089077,\n",
       " 1.3565240433972998,\n",
       " 0.8987583895608503,\n",
       " 1.8748800963809118,\n",
       " 2.3077008424488397]"
      ]
     },
     "execution_count": 12,
     "metadata": {},
     "output_type": "execute_result"
    }
   ],
   "source": [
    "MahalanobisDist(x,y)"
   ]
  },
  {
   "cell_type": "code",
   "execution_count": 13,
   "metadata": {
    "collapsed": true
   },
   "outputs": [],
   "source": [
    "def MD_removeOutliers(x, y):\n",
    "    MD = MahalanobisDist(x, y)\n",
    "    threshold = np.mean(MD) * 1.5 # adjust 1.5 accordingly \n",
    "    nx, ny, outliers = [], [], []\n",
    "    for i in range(len(MD)):\n",
    "        if MD[i] <= threshold:\n",
    "            nx.append(x[i])\n",
    "            ny.append(y[i])\n",
    "        else:\n",
    "            outliers.append(i) # position of removed pair\n",
    "    return (np.array(nx), np.array(ny), np.array(outliers))"
   ]
  },
  {
   "cell_type": "code",
   "execution_count": 16,
   "metadata": {},
   "outputs": [
    {
     "name": "stdout",
     "output_type": "stream",
     "text": [
      "x: [4 6 3 6 5 6 3 7 9 2]\n",
      "y: [3 4 2 7 5 6 3 4 3 9]\n"
     ]
    },
    {
     "data": {
      "text/plain": [
       "(array([4, 6, 3, 6, 5, 6, 3, 7]),\n",
       " array([3, 4, 2, 7, 5, 6, 3, 4]),\n",
       " array([8, 9]))"
      ]
     },
     "execution_count": 16,
     "metadata": {},
     "output_type": "execute_result"
    }
   ],
   "source": [
    "print('x:', x)\n",
    "print('y:', y)\n",
    "MD_removeOutliers(x,y)"
   ]
  },
  {
   "cell_type": "markdown",
   "metadata": {},
   "source": [
    "The pair in position 6 is removed which is (9,6) where MD = 2.230 Graphing them below:\n",
    "\n",
    "### Plotting in R's ggplot2\n",
    "Here we create a dataframe that both the R and Python versions of ggplot will utilize:"
   ]
  },
  {
   "cell_type": "code",
   "execution_count": 17,
   "metadata": {},
   "outputs": [
    {
     "data": {
      "text/html": [
       "<div>\n",
       "<style>\n",
       "    .dataframe thead tr:only-child th {\n",
       "        text-align: right;\n",
       "    }\n",
       "\n",
       "    .dataframe thead th {\n",
       "        text-align: left;\n",
       "    }\n",
       "\n",
       "    .dataframe tbody tr th {\n",
       "        vertical-align: top;\n",
       "    }\n",
       "</style>\n",
       "<table border=\"1\" class=\"dataframe\">\n",
       "  <thead>\n",
       "    <tr style=\"text-align: right;\">\n",
       "      <th></th>\n",
       "      <th>X</th>\n",
       "      <th>Y</th>\n",
       "    </tr>\n",
       "  </thead>\n",
       "  <tbody>\n",
       "    <tr>\n",
       "      <th>0</th>\n",
       "      <td>-1.1</td>\n",
       "      <td>-1.6</td>\n",
       "    </tr>\n",
       "    <tr>\n",
       "      <th>1</th>\n",
       "      <td>0.9</td>\n",
       "      <td>-0.6</td>\n",
       "    </tr>\n",
       "    <tr>\n",
       "      <th>2</th>\n",
       "      <td>-2.1</td>\n",
       "      <td>-2.6</td>\n",
       "    </tr>\n",
       "    <tr>\n",
       "      <th>3</th>\n",
       "      <td>0.9</td>\n",
       "      <td>2.4</td>\n",
       "    </tr>\n",
       "    <tr>\n",
       "      <th>4</th>\n",
       "      <td>-0.1</td>\n",
       "      <td>0.4</td>\n",
       "    </tr>\n",
       "    <tr>\n",
       "      <th>5</th>\n",
       "      <td>0.9</td>\n",
       "      <td>1.4</td>\n",
       "    </tr>\n",
       "    <tr>\n",
       "      <th>6</th>\n",
       "      <td>-2.1</td>\n",
       "      <td>-1.6</td>\n",
       "    </tr>\n",
       "    <tr>\n",
       "      <th>7</th>\n",
       "      <td>1.9</td>\n",
       "      <td>-0.6</td>\n",
       "    </tr>\n",
       "    <tr>\n",
       "      <th>8</th>\n",
       "      <td>3.9</td>\n",
       "      <td>-1.6</td>\n",
       "    </tr>\n",
       "    <tr>\n",
       "      <th>9</th>\n",
       "      <td>-3.1</td>\n",
       "      <td>4.4</td>\n",
       "    </tr>\n",
       "  </tbody>\n",
       "</table>\n",
       "</div>"
      ],
      "text/plain": [
       "     X    Y\n",
       "0 -1.1 -1.6\n",
       "1  0.9 -0.6\n",
       "2 -2.1 -2.6\n",
       "3  0.9  2.4\n",
       "4 -0.1  0.4\n",
       "5  0.9  1.4\n",
       "6 -2.1 -1.6\n",
       "7  1.9 -0.6\n",
       "8  3.9 -1.6\n",
       "9 -3.1  4.4"
      ]
     },
     "execution_count": 17,
     "metadata": {},
     "output_type": "execute_result"
    }
   ],
   "source": [
    "import pandas as pd\n",
    "\n",
    "DF_diff_xy = pd.DataFrame(diff_xy)\n",
    "DF_diff_xy.rename(columns = lambda x: str(x), inplace=True)\n",
    "DF_diff_xy.rename(columns={\"0\": \"X\"}, inplace=True) # rename a dfcolumn   \n",
    "DF_diff_xy.rename(columns={\"1\": \"Y\"}, inplace=True) # rename a dfcolumn \n",
    "DF_diff_xy"
   ]
  },
  {
   "cell_type": "code",
   "execution_count": 18,
   "metadata": {},
   "outputs": [
    {
     "name": "stderr",
     "output_type": "stream",
     "text": [
      "C:\\Users\\toshiba\\Anaconda3\\lib\\site-packages\\IPython\\extensions\\rmagic.py:11: UserWarning: The rmagic extension in IPython has moved to `rpy2.ipython`, please see `rpy2` documentation.\n",
      "  warnings.warn(\"The rmagic extension in IPython has moved to \"\n"
     ]
    }
   ],
   "source": [
    "#%load_ext rmagic\n",
    "%reload_ext rmagic"
   ]
  },
  {
   "cell_type": "code",
   "execution_count": 19,
   "metadata": {},
   "outputs": [
    {
     "name": "stderr",
     "output_type": "stream",
     "text": [
      "ERROR:root:Cell magic `%%R` not found.\n"
     ]
    }
   ],
   "source": [
    "%%R -i DF_diff_xy # list object to be transferred to python here\n",
    "install.packages(\"ggplot2\") # Had to add this for some reason, shouldn't be necessary\n",
    "library(ggplot2)\n",
    "df = data.frame(DF_diff_xy)\n",
    "plot = ggplot(df, aes(x = X, y = Y)) + \n",
    "geom_point(alpha = .8, color = 'dodgerblue',size = 5) +\n",
    "geom_point(data=subset(df, Y >= 0.7 & X >= 4.1), color = 'red',size = 6) +\n",
    "theme(axis.text.x = element_text(size= rel(1.5),angle=90, hjust=1)) +\n",
    "ggtitle('Distance Pairs with outliers highlighted in red')\n",
    "print(plot)"
   ]
  },
  {
   "cell_type": "markdown",
   "metadata": {},
   "source": [
    "### Plotting in the python ggplot port from yhat\n",
    "2013/12/13 Update I can now specify a dataframe per geom, thanks JanSchulz :)\n",
    "https://github.com/yhat/ggplot/issues/116#issuecomment-29842170\n",
    "\n"
   ]
  },
  {
   "cell_type": "code",
   "execution_count": 20,
   "metadata": {},
   "outputs": [
    {
     "ename": "NameError",
     "evalue": "name 'ggplot' is not defined",
     "output_type": "error",
     "traceback": [
      "\u001b[1;31m---------------------------------------------------------------------------\u001b[0m",
      "\u001b[1;31mNameError\u001b[0m                                 Traceback (most recent call last)",
      "\u001b[1;32m<ipython-input-20-1bc9926cc1c9>\u001b[0m in \u001b[0;36m<module>\u001b[1;34m()\u001b[0m\n\u001b[1;32m----> 1\u001b[1;33m \u001b[0mggplot\u001b[0m\u001b[1;33m(\u001b[0m\u001b[0mDF_diff_xy\u001b[0m\u001b[1;33m,\u001b[0m \u001b[0maes\u001b[0m\u001b[1;33m(\u001b[0m\u001b[0mx\u001b[0m \u001b[1;33m=\u001b[0m \u001b[1;34m'X'\u001b[0m\u001b[1;33m,\u001b[0m \u001b[0my\u001b[0m \u001b[1;33m=\u001b[0m\u001b[1;34m'Y'\u001b[0m\u001b[1;33m)\u001b[0m\u001b[1;33m)\u001b[0m \u001b[1;33m+\u001b[0m     \u001b[0mgeom_point\u001b[0m\u001b[1;33m(\u001b[0m\u001b[0malpha\u001b[0m\u001b[1;33m=\u001b[0m\u001b[1;36m1\u001b[0m\u001b[1;33m,\u001b[0m \u001b[0msize\u001b[0m\u001b[1;33m=\u001b[0m\u001b[1;36m100\u001b[0m\u001b[1;33m,\u001b[0m \u001b[0mcolor\u001b[0m\u001b[1;33m=\u001b[0m\u001b[1;34m'dodgerblue'\u001b[0m\u001b[1;33m)\u001b[0m \u001b[1;33m+\u001b[0m     \u001b[0mgeom_point\u001b[0m\u001b[1;33m(\u001b[0m\u001b[0mdata\u001b[0m \u001b[1;33m=\u001b[0m \u001b[0mDF_diff_xy\u001b[0m\u001b[1;33m[\u001b[0m\u001b[1;33m(\u001b[0m\u001b[0mDF_diff_xy\u001b[0m\u001b[1;33m.\u001b[0m\u001b[0mY\u001b[0m \u001b[1;33m>=\u001b[0m \u001b[1;36m0.7\u001b[0m\u001b[1;33m)\u001b[0m \u001b[1;33m&\u001b[0m \u001b[1;33m(\u001b[0m\u001b[0mDF_diff_xy\u001b[0m\u001b[1;33m.\u001b[0m\u001b[0mX\u001b[0m \u001b[1;33m>=\u001b[0m \u001b[1;36m4.1\u001b[0m\u001b[1;33m)\u001b[0m\u001b[1;33m]\u001b[0m\u001b[1;33m,\u001b[0m\u001b[0malpha\u001b[0m\u001b[1;33m=\u001b[0m\u001b[1;36m1\u001b[0m\u001b[1;33m,\u001b[0m \u001b[0msize\u001b[0m \u001b[1;33m=\u001b[0m \u001b[1;36m100\u001b[0m\u001b[1;33m,\u001b[0m \u001b[0mcolor\u001b[0m\u001b[1;33m=\u001b[0m\u001b[1;34m'red'\u001b[0m\u001b[1;33m)\u001b[0m\u001b[1;33m\u001b[0m\u001b[0m\n\u001b[0m",
      "\u001b[1;31mNameError\u001b[0m: name 'ggplot' is not defined"
     ]
    }
   ],
   "source": [
    "ggplot(DF_diff_xy, aes(x = 'X', y ='Y')) + \\\n",
    "    geom_point(alpha=1, size=100, color='dodgerblue') + \\\n",
    "    geom_point(data = DF_diff_xy[(DF_diff_xy.Y >= 0.7) & (DF_diff_xy.X >= 4.1)],alpha=1, size = 100, color='red')"
   ]
  },
  {
   "cell_type": "code",
   "execution_count": null,
   "metadata": {
    "collapsed": true
   },
   "outputs": [],
   "source": []
  }
 ],
 "metadata": {
  "kernelspec": {
   "display_name": "Python [conda root]",
   "language": "python",
   "name": "conda-root-py"
  },
  "language_info": {
   "codemirror_mode": {
    "name": "ipython",
    "version": 3
   },
   "file_extension": ".py",
   "mimetype": "text/x-python",
   "name": "python",
   "nbconvert_exporter": "python",
   "pygments_lexer": "ipython3",
   "version": "3.5.3"
  }
 },
 "nbformat": 4,
 "nbformat_minor": 2
}
